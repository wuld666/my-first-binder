{
 "cells": [
  {
   "cell_type": "markdown",
   "metadata": {},
   "source": [
    "# Homework 1 (50 pts)\n",
    "### Applied AI Machine Learning (BUAN 4382.001 - ITSS 4382.001 - F24)"
   ]
  },
  {
   "cell_type": "markdown",
   "metadata": {},
   "source": [
    "This assignment covers Supervised Learning models. In this assignment, you are required to use one clean dataset to train FOUR classification models for discrete targets."
   ]
  },
  {
   "cell_type": "code",
   "execution_count": null,
   "metadata": {},
   "outputs": [],
   "source": [
    "%matplotlib inline \n",
    "import numpy as np\n",
    "import pandas as pd\n",
    "\n",
    "# packages for plotting\n",
    "import seaborn as sns\n",
    "\n",
    "import warnings\n",
    "warnings.filterwarnings('ignore')"
   ]
  },
  {
   "cell_type": "markdown",
   "metadata": {},
   "source": [
    "# Part I. KNN Classification \n",
    "\n",
    "In this part, you are required to use the [Breast Cancer Wisconsin (Diagnostic) Database](https://scikit-learn.org/stable/modules/generated/sklearn.datasets.load_breast_cancer.html#sklearn.datasets.load_breast_cancer) to create a classifier that can help diagnose patients. This dataset is a classic and very easy binary classification dataset. Read more in the [User Guide](https://scikit-learn.org/stable/datasets/toy_dataset.html#breast-cancer-dataset)."
   ]
  },
  {
   "cell_type": "code",
   "execution_count": null,
   "metadata": {
    "scrolled": false
   },
   "outputs": [],
   "source": [
    "# Generating Data\n",
    "from sklearn.datasets import load_breast_cancer\n",
    "\n",
    "cancer = load_breast_cancer()\n",
    "print(cancer.keys())"
   ]
  },
  {
   "cell_type": "markdown",
   "metadata": {},
   "source": [
    "# Q1 (6 pts)\n",
    "\n",
    "- Q1a | What features does the data have? (2 pts) \n",
    "- Q1b | What values does the target have? (2 pts) \n",
    "- Q1c | Show the number records in the dataset. (2 pts)"
   ]
  },
  {
   "cell_type": "code",
   "execution_count": null,
   "metadata": {},
   "outputs": [],
   "source": [
    "\n",
    "### Write your code in the box below ###\n",
    "\n",
    "\n",
    "\n",
    "\n",
    "\n",
    "\n",
    "\n",
    "\n"
   ]
  },
  {
   "cell_type": "markdown",
   "metadata": {
    "scrolled": false
   },
   "source": [
    "We split the data with 75% training, 25% test, and random_state=42."
   ]
  },
  {
   "cell_type": "code",
   "execution_count": null,
   "metadata": {},
   "outputs": [],
   "source": [
    "# Splitting Data\n",
    "from sklearn.model_selection import train_test_split \n",
    "X_train, X_test, y_train, y_test = train_test_split(cancer.data, cancer.target, random_state=42)"
   ]
  },
  {
   "cell_type": "markdown",
   "metadata": {},
   "source": [
    "## Classification Model "
   ]
  },
  {
   "cell_type": "markdown",
   "metadata": {},
   "source": [
    "## Q2 (12 points)\n",
    "- Train a k-NN model with grid search and cross-validation. Let the choices of k be: [5, 10, 15, 20, 25]. Use 5-fold cross-validation.\n",
    "- Report (1) the best k chosen, (2) the test accuracy under the best model, and (3) the mean validation accuracy through the cross-validation process (under the best model). *Hint: the mean validation accuracy can be obtained through MODEL_NAME.best_score_*"
   ]
  },
  {
   "cell_type": "code",
   "execution_count": null,
   "metadata": {},
   "outputs": [],
   "source": [
    "# load gridsearchCV\n",
    "from sklearn.model_selection import GridSearchCV\n",
    "from sklearn.neighbors import KNeighborsClassifier\n",
    "\n",
    "# YOUR CODE HERE\n",
    "\n"
   ]
  },
  {
   "cell_type": "code",
   "execution_count": null,
   "metadata": {
    "scrolled": true
   },
   "outputs": [],
   "source": [
    "# YOUR CODE HERE\n",
    "\n",
    "\n"
   ]
  },
  {
   "cell_type": "markdown",
   "metadata": {},
   "source": [
    "<br><br><br><br>\n",
    "# Part II. Regression Models\n",
    "\n",
    "In this part, you are required to analyze the daily version of the [Capital Bikeshare System dataset](https://archive.ics.uci.edu/ml/datasets/Bike+Sharing+Dataset) from the UCI Machine Learning Repository. This data set contains information about the daily count of bike rental checkouts in Washington, D.C.’s bikeshare program between 2011 and 2012. It also includes information about the weather and seasonal/temporal features for that day (e.g., if it was a weekday).\n",
    "- **day:** Day of the record (relative to day 1: 2011-01-01)\n",
    "- **season:** Season (1: spring, 2: summer, 3: fall, 4: winter)\n",
    "- **weekday:** Day of the week (0 = Sunday, 6 = Saturday)\n",
    "- **workingday:** If day is neither weekend nor holiday is 1, otherwise is 0.\n",
    "- **weathersit:**<br>\n",
    "    - 1: Clear, Few clouds, Partly cloudy, Partly cloudy\n",
    "    - 2: Mist + Cloudy, Mist + Broken clouds, Mist + Few clouds, Mist\n",
    "    - 3: Light Snow, Light Rain + Thunderstorm + Scattered clouds, Light Rain + Scattered\n",
    "clouds\n",
    "- **temp:** Normalized temperature in Celsius\n",
    "- **windspeed:** Normalized wind speed\n",
    "- **casual:** Count of checkouts by casual/non-registered users\n",
    "- **registered:** Count of checkouts by registered users\n",
    "- **cnt:** Total checkouts\n",
    "\n",
    "## Preliminaries\n",
    "\n",
    "Run the cells below to load the split the data. We will use features ('weekday', 'season','workingday', 'temp', 'windspeed', 'weathersit') to predict the checkout counts. We are interested in predicting the total checkout counts (i.e., 'cnt')."
   ]
  },
  {
   "cell_type": "code",
   "execution_count": null,
   "metadata": {},
   "outputs": [],
   "source": [
    "day = pd.read_csv(\"day.csv\")\n",
    "print(day.columns.values) # to find variable names"
   ]
  },
  {
   "cell_type": "code",
   "execution_count": null,
   "metadata": {},
   "outputs": [],
   "source": [
    "day.head()"
   ]
  },
  {
   "cell_type": "code",
   "execution_count": null,
   "metadata": {},
   "outputs": [],
   "source": [
    "var = ['weekday', 'season','workingday', 'temp', 'windspeed', 'weathersit']\n",
    "X = day[var]\n",
    "y = day['cnt']\n",
    "\n",
    "from sklearn.model_selection import train_test_split\n",
    "X_train, X_test, y_train, y_test = train_test_split(X, y, test_size=0.25, random_state=42)"
   ]
  },
  {
   "cell_type": "markdown",
   "metadata": {},
   "source": [
    "## Q3 (12 pts)\n",
    "\n",
    "- Fit a polynomial LinearRegression model (degree 9) on the 'X_train' dataset. You may either code separately in two steps or construct a pipeline that encapsulates both polynomial features and Linear Regression model."
   ]
  },
  {
   "cell_type": "code",
   "execution_count": null,
   "metadata": {},
   "outputs": [],
   "source": [
    "# YOUR CODE HERE\n",
    "\n",
    "\n",
    "\n",
    "\n",
    "\n",
    "\n"
   ]
  },
  {
   "cell_type": "markdown",
   "metadata": {},
   "source": [
    "## Q4 (4 pts)\n",
    "\n",
    "- Assume we set the degree of the above model as 1, 3, 6, and 9. And plot the generated models along with the original data as follows. According to the role of polynomial degree in linear regression, specify the models represented by each line. Select your answer on eLearning.\n",
    "\n",
    "<img src=\"polynomialreg1.png\" alt=\"Polynomial Regression\" style=\"width:75%;\">"
   ]
  },
  {
   "cell_type": "markdown",
   "metadata": {},
   "source": [
    "# Q5 | Cross Validation (12 pts)\n",
    "\n",
    "- Apply grid search for hyperparameter tuning to train a polynomial LinearRegression model on the training data X_train for degrees 0 through 9, including 0 and 9. Set 5 folds in cv splitting. \n",
    "\n",
    "- For the best model, report its 𝑅2 (coefficient of determination) regression score on the training data as well as the test data.\n",
    "\n",
    "- Write your code in the box below.\n",
    "\n",
    " \n"
   ]
  },
  {
   "cell_type": "code",
   "execution_count": null,
   "metadata": {},
   "outputs": [],
   "source": [
    "\n",
    "\n",
    "\n",
    "\n",
    "\n",
    "\n"
   ]
  },
  {
   "cell_type": "markdown",
   "metadata": {},
   "source": [
    "# Q6 (4 pts)\n",
    "- Can the value of R^2 be negative? Why or why not? "
   ]
  },
  {
   "cell_type": "markdown",
   "metadata": {},
   "source": [
    "\n",
    "\n",
    "\n",
    "\n",
    "\n",
    "\n",
    "\n",
    "\n",
    "\n"
   ]
  },
  {
   "cell_type": "code",
   "execution_count": null,
   "metadata": {},
   "outputs": [],
   "source": []
  },
  {
   "cell_type": "code",
   "execution_count": null,
   "metadata": {},
   "outputs": [],
   "source": []
  }
 ],
 "metadata": {
  "kernelspec": {
   "display_name": "Python 3 (ipykernel)",
   "language": "python",
   "name": "python3"
  },
  "language_info": {
   "codemirror_mode": {
    "name": "ipython",
    "version": 3
   },
   "file_extension": ".py",
   "mimetype": "text/x-python",
   "name": "python",
   "nbconvert_exporter": "python",
   "pygments_lexer": "ipython3",
   "version": "3.9.12"
  }
 },
 "nbformat": 4,
 "nbformat_minor": 2
}
